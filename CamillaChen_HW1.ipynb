{
 "cells": [
  {
   "cell_type": "markdown",
   "metadata": {},
   "source": [
    "# 1.2 Write a Jupyter Magic"
   ]
  },
  {
   "cell_type": "code",
   "execution_count": 144,
   "metadata": {},
   "outputs": [],
   "source": [
    "from IPython.core.magic import (register_line_magic, register_cell_magic)\n",
    "\n",
    "@register_line_magic\n",
    "def countwords(line):\n",
    "    words = line.split()\n",
    "    return len(words)\n",
    "\n",
    "@register_cell_magic\n",
    "def countwords(line, cell):\n",
    "    words=cell.split()\n",
    "    return len(words)"
   ]
  },
  {
   "cell_type": "code",
   "execution_count": 145,
   "metadata": {},
   "outputs": [
    {
     "data": {
      "text/plain": [
       "5"
      ]
     },
     "execution_count": 145,
     "metadata": {},
     "output_type": "execute_result"
    }
   ],
   "source": [
    "%countwords this is a line magic"
   ]
  },
  {
   "cell_type": "code",
   "execution_count": 146,
   "metadata": {},
   "outputs": [
    {
     "data": {
      "text/plain": [
       "5"
      ]
     },
     "execution_count": 146,
     "metadata": {},
     "output_type": "execute_result"
    }
   ],
   "source": [
    "%%countwords\n",
    "\n",
    "this is a magic\n",
    "cell"
   ]
  },
  {
   "cell_type": "markdown",
   "metadata": {},
   "source": [
    "# 1.3 the speed of list comprehension vs. for loops"
   ]
  },
  {
   "cell_type": "code",
   "execution_count": 114,
   "metadata": {},
   "outputs": [
    {
     "name": "stdout",
     "output_type": "stream",
     "text": [
      "CPU times: user 77 µs, sys: 1 µs, total: 78 µs\n",
      "Wall time: 83.2 µs\n"
     ]
    }
   ],
   "source": [
    "%time x=[i**3 for i in range(100)]"
   ]
  },
  {
   "cell_type": "code",
   "execution_count": 26,
   "metadata": {},
   "outputs": [
    {
     "name": "stdout",
     "output_type": "stream",
     "text": [
      "CPU times: user 86 µs, sys: 0 ns, total: 86 µs\n",
      "Wall time: 92.3 µs\n"
     ]
    }
   ],
   "source": [
    "%%time\n",
    "x=[0]*100\n",
    "for i in range(100):\n",
    "    x[i]=i**3"
   ]
  },
  {
   "cell_type": "markdown",
   "metadata": {},
   "source": [
    "# 1.4 Prime numbers"
   ]
  },
  {
   "cell_type": "code",
   "execution_count": 50,
   "metadata": {},
   "outputs": [
    {
     "data": {
      "text/plain": [
       "[2, 5, 3, 7, 13, 37, 73]"
      ]
     },
     "execution_count": 50,
     "metadata": {},
     "output_type": "execute_result"
    }
   ],
   "source": [
    "#method 1: use sympy built-in function\n",
    "import sympy\n",
    "numlist = [1,2,5,8,3,7,10,13,25,37,86,73,1843]\n",
    "primes = [i for i in numlist if sympy.isprime(i)]\n",
    "primes"
   ]
  },
  {
   "cell_type": "code",
   "execution_count": 116,
   "metadata": {},
   "outputs": [
    {
     "data": {
      "text/plain": [
       "[2, 5, 3, 7, 13, 37, 73]"
      ]
     },
     "execution_count": 116,
     "metadata": {},
     "output_type": "execute_result"
    }
   ],
   "source": [
    "#method 2: no built-in function and only list comprehension\n",
    "primes2 = [i for i in numlist if i > 1 and not any(i%j == 0 for j in range(2,int(i**0.5)+1))]\n",
    "primes2"
   ]
  },
  {
   "cell_type": "markdown",
   "metadata": {},
   "source": [
    "# 1.5 Extend the Vector class"
   ]
  },
  {
   "cell_type": "code",
   "execution_count": 199,
   "metadata": {},
   "outputs": [],
   "source": [
    "class Vector:\n",
    "    def __init__(self,*v):\n",
    "        self._vec = v\n",
    "        \n",
    "    def __repr__(self):\n",
    "        return f'Vector{self._vec}'\n",
    "    \n",
    "    def __str__(self):\n",
    "        return f\"{self._vec}\"\n",
    "    \n",
    "    def __getitem__(self,i):\n",
    "        l=len(self._vec)\n",
    "        if i>l: return \"Out of range.\"\n",
    "        return self._vec[i-1]\n",
    "    \n",
    "    def __eq__(self,v):\n",
    "        if len(self._vec)!=len(v._vec): return False\n",
    "        return all(self._vec[i]==v._vec[i] for i in range(len(v1)))\n",
    "    \n",
    "    def __len__(self):\n",
    "        return len(self._vec)\n",
    "    \n",
    "    def __add__(self,v):\n",
    "        if len(v) != len(self._vec): return \"Wrong vector length.\"\n",
    "        return Vector(*(v[i]+self[i] for i in range(1,len(v)+1)))\n",
    "    \n",
    "    def __mul__(self,a):\n",
    "        return Vector(*(i*a for i in self._vec))\n",
    "        \n",
    "    def __pow__(self,p):\n",
    "        return Vector(*(i**p for i in self._vec))"
   ]
  },
  {
   "cell_type": "code",
   "execution_count": 200,
   "metadata": {},
   "outputs": [
    {
     "name": "stdout",
     "output_type": "stream",
     "text": [
      "(1, 2, 3, 4, 5)\n",
      "(6, 7, 8, 9, 10)\n",
      "5\n",
      "3\n",
      "Out of range.\n",
      "(7, 9, 11, 13, 15)\n",
      "Wrong vector length.\n",
      "(3, 6, 9, 12, 15)\n",
      "(36, 49, 64, 81, 100)\n",
      "False\n",
      "True\n"
     ]
    }
   ],
   "source": [
    "#construction\n",
    "v1 = Vector(1,2,3,4,5)\n",
    "v2 = Vector(6,7,8,9,10)\n",
    "print(v1)\n",
    "print(v2)\n",
    "\n",
    "#len\n",
    "print(len(v1))\n",
    "\n",
    "#get item\n",
    "print(v1[3])\n",
    "print(v1[10])\n",
    "\n",
    "#add\n",
    "v3 = v1+v2\n",
    "print(v3)\n",
    "print(v1+[1,2,3])\n",
    "\n",
    "#multiply\n",
    "print(v1*3)\n",
    "\n",
    "#power\n",
    "print(v2**2)\n",
    "\n",
    "#bool\n",
    "print(v1==v2)\n",
    "v4 = Vector(1,2,3,4,5)\n",
    "print(v4==v1)"
   ]
  },
  {
   "cell_type": "markdown",
   "metadata": {},
   "source": [
    "# 1.6 Case-insensitive dictionary"
   ]
  },
  {
   "cell_type": "code",
   "execution_count": 192,
   "metadata": {},
   "outputs": [],
   "source": [
    "from collections import defaultdict\n",
    "\n",
    "class CaseInsentitiveDict:\n",
    "    def __init__(self):\n",
    "        self.originaldata={} \n",
    "        self.dict=defaultdict(list) #use a dictionary to store all data, including modified ones\n",
    "    \n",
    "    def __str__(self):\n",
    "        return f\"{self.originaldata}\"\n",
    "    \n",
    "    def __setitem__(self,key,val):\n",
    "        key_lower = key.lower()\n",
    "        if key_lower not in self.dict:\n",
    "            self.dict[key_lower]=[key,val]\n",
    "            self.originaldata[key]=val\n",
    "        else:\n",
    "            self.dict[key_lower][1]=val\n",
    "            \n",
    "    def __getitem__(self,key):\n",
    "        if key.lower() not in self.dict:\n",
    "            return \"Key not found.\"\n",
    "        else:\n",
    "            return self.dict[key.lower()][1]\n",
    "    \n",
    "    def __delitem__(self,key):\n",
    "        key_lower = key.lower()\n",
    "        if key_lower not in self.dict: return\n",
    "        originalkey = self.dict[key_lower][0]\n",
    "        del self.originaldata[originalkey]\n",
    "        del self.dict[key_lower]\n",
   ]
  },
  {
   "cell_type": "code",
   "execution_count": 193,
   "metadata": {},
   "outputs": [
    {
     "name": "stdout",
     "output_type": "stream",
     "text": [
      "{'aaA': 1, 'BbB': 2, 'CCC': 3, 'ddd': 4}\n",
      "1\n",
      "2\n",
      "5\n",
      "Key not found.\n",
      "6\n",
      "{'aaA': 1, 'BbB': 2, 'CCC': 3, 'ddd': 4}\n",
      "{'BbB': 2, 'CCC': 3, 'ddd': 4}\n"
     ]
    }
   ],
   "source": [
    "d=CaseInsentitiveDict()\n",
    "d['aaA'],d['BbB'],d['CCC'],d['ddd']=1,2,3,4\n",
    "print(d)\n",
    "print(d['AAA'])\n",
    "print(d['bbb'])\n",
    "\n",
    "d['Bbb']=5\n",
    "print(d[\"Bbb\"])\n",
    "print(d['hhH'])\n",
    "\n",
    "d['ddd']=6\n",
    "print(d['dDD'])\n",
    "print(d)\n",
    "\n",
    "del d['aAA']\n",
    "del d['hhh']\n",
    "print(d)"
   ]
  },
  {
   "cell_type": "code",
   "execution_count": null,
   "metadata": {},
   "outputs": [],
   "source": []
  }
 ],
 "metadata": {
  "kernelspec": {
   "display_name": "Python 3",
   "language": "python",
   "name": "python3"
  },
  "language_info": {
   "codemirror_mode": {
    "name": "ipython",
    "version": 3
   },
   "file_extension": ".py",
   "mimetype": "text/x-python",
   "name": "python",
   "nbconvert_exporter": "python",
   "pygments_lexer": "ipython3",
   "version": "3.7.6"
  }
 },
 "nbformat": 4,
 "nbformat_minor": 4
}
