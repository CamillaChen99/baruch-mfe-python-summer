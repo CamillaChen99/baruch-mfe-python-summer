{
 "cells": [
  {
   "cell_type": "markdown",
   "metadata": {},
   "source": [
    "# 1. Merge Sorted Stream"
   ]
  },
  {
   "cell_type": "code",
   "execution_count": 10,
   "metadata": {},
   "outputs": [
    {
     "name": "stdout",
     "output_type": "stream",
     "text": [
      "0\n",
      "1\n",
      "2\n",
      "3\n",
      "4\n",
      "5\n",
      "6\n",
      "7\n",
      "8\n",
      "9\n"
     ]
    }
   ],
   "source": [
    "def merge_sorted_stream(*streams): #assuming each stream is a generator\n",
    "    findmin = list(next(it) for it in streams)\n",
    "    while findmin:\n",
    "        min_index = findmin.index(min(findmin))\n",
    "        yield findmin[min_index]\n",
    "        try:\n",
    "            findmin[min_index] = next(streams[min_index])\n",
    "        except StopIteration:\n",
    "            streams = streams[:min_index] + streams[min_index+1:]\n",
    "            findmin.pop(min_index)\n",
    "\n",
    "stream1 = (x for x in range(0, 10, 2))\n",
    "stream2 = (x for x in range(1, 10, 2))\n",
    "for x in merge_sorted_stream(stream1, stream2):\n",
    "    print(x)"
   ]
  },
  {
   "cell_type": "code",
   "execution_count": 11,
   "metadata": {},
   "outputs": [
    {
     "name": "stdout",
     "output_type": "stream",
     "text": [
      "1\n",
      "2\n",
      "3\n",
      "3\n",
      "5\n",
      "5.2\n",
      "6\n",
      "6\n",
      "7\n",
      "8\n",
      "9\n",
      "9\n",
      "9.5\n",
      "12\n",
      "12.9\n",
      "15\n",
      "15\n",
      "18\n",
      "35.7\n",
      "45\n",
      "67\n",
      "89\n",
      "120\n"
     ]
    }
   ],
   "source": [
    "stream1 = (x for x in range(1, 10, 2))\n",
    "stream2 = (x for x in range(6,19,3))\n",
    "stream3 = (x for x in [3,6,9.5,12.9,45,67])\n",
    "stream4 = (x for x in [2,5.2,8,15,35.7,89,120])\n",
    "for x in merge_sorted_stream(stream1,stream2,stream3,stream4):\n",
    "    print(x)"
   ]
  },
  {
   "cell_type": "markdown",
   "metadata": {},
   "source": [
    "# 2. Tree traversal"
   ]
  },
  {
   "cell_type": "code",
   "execution_count": 12,
   "metadata": {},
   "outputs": [],
   "source": [
    "class TreeNode:\n",
    "    def __init__(self,val=0,left=None,right=None):\n",
    "        self.val = str(val)\n",
    "        self.left = left\n",
    "        self.right = right\n",
    "    \n",
    "    def in_order(self):\n",
    "        if self:\n",
    "            if self.left:\n",
    "                for each in self.left.in_order():\n",
    "                    yield each\n",
    "            yield self.val\n",
    "            if self.right:\n",
    "                for each in self.right.in_order():\n",
    "                    yield each\n",
    "    \n",
    "    def pre_order(self):\n",
    "        if self:\n",
    "            yield self.val\n",
    "            if self.left:\n",
    "                for each in self.left.pre_order():\n",
    "                    yield each\n",
    "            if self.right:\n",
    "                for each in self.right.pre_order():\n",
    "                    yield each\n",
    "\n",
    "    def post_order(self):\n",
    "        if self:\n",
    "            if self.left:\n",
    "                for each in self.left.post_order():\n",
    "                    yield each\n",
    "            if self.right:\n",
    "                for each in self.right.post_order():\n",
    "                    yield each\n",
    "            yield self.val\n"
   ]
  },
  {
   "cell_type": "code",
   "execution_count": 13,
   "metadata": {},
   "outputs": [],
   "source": [
    "root = TreeNode(1)\n",
    "root.left = TreeNode(2)\n",
    "root.right = TreeNode(3)\n",
    "root.left.left = TreeNode(4)\n",
    "root.left.right = TreeNode(5)"
   ]
  },
  {
   "cell_type": "code",
   "execution_count": 14,
   "metadata": {},
   "outputs": [
    {
     "name": "stdout",
     "output_type": "stream",
     "text": [
      "In Order Traversal: 4 -> 2 -> 5 -> 1 -> 3 \n",
      "\n",
      "Pre Order Traversal: 1 -> 2 -> 4 -> 5 -> 3 \n",
      "\n",
      "Post Order Traversal: 4 -> 5 -> 2 -> 3 -> 1 \n",
      "\n"
     ]
    }
   ],
   "source": [
    "print(\"In Order Traversal:\",' -> '.join(item for item in root.in_order()),\"\\n\")\n",
    "print(\"Pre Order Traversal:\",' -> '.join(item for item in root.pre_order()),\"\\n\")\n",
    "print(\"Post Order Traversal:\",' -> '.join(item for item in root.post_order()),\"\\n\")"
   ]
  },
  {
   "cell_type": "markdown",
   "metadata": {},
   "source": [
    "# 3. Implement a timer"
   ]
  },
  {
   "cell_type": "code",
   "execution_count": 15,
   "metadata": {},
   "outputs": [],
   "source": [
    "import time\n",
    "\n",
    "class timer:\n",
    "    def __enter__(self):\n",
    "        return self\n",
    "    \n",
    "    def __call__(self,func):\n",
    "        def inner(x):\n",
    "            start = time.time()\n",
    "            res = func(x)\n",
    "            end = time.time()\n",
    "            print(f\"Total execution time: {end - start} seconds\")\n",
    "            return res\n",
    "        return inner\n",
    " \n",
    "    def __exit__(self, exc_type, exc_value, traceback):\n",
    "        if exc_type is ValueError:\n",
    "            print(\"Please give positive numbers!\")\n",
    "            return True"
   ]
  },
  {
   "cell_type": "code",
   "execution_count": 16,
   "metadata": {},
   "outputs": [
    {
     "name": "stdout",
     "output_type": "stream",
     "text": [
      "Total execution time: 4.0531158447265625e-06 seconds\n",
      "Please give positive numbers!\n"
     ]
    }
   ],
   "source": [
    "from math import sqrt\n",
    "\n",
    "def myfunc1(x):\n",
    "    return sqrt(x)\n",
    "\n",
    "with timer() as t:\n",
    "    t(myfunc1)(3)\n",
    "    t(myfunc1)(-10)"
   ]
  },
  {
   "cell_type": "code",
   "execution_count": 17,
   "metadata": {},
   "outputs": [
    {
     "name": "stdout",
     "output_type": "stream",
     "text": [
      "Total execution time: 2.86102294921875e-06 seconds\n"
     ]
    },
    {
     "data": {
      "text/plain": [
       "95367431640625"
      ]
     },
     "execution_count": 17,
     "metadata": {},
     "output_type": "execute_result"
    }
   ],
   "source": [
    "@timer()\n",
    "def myfunc2(x):\n",
    "    return x**10\n",
    "\n",
    "myfunc2(25)"
   ]
  },
  {
   "cell_type": "code",
   "execution_count": null,
   "metadata": {},
   "outputs": [],
   "source": []
  }
 ],
 "metadata": {
  "kernelspec": {
   "display_name": "Python 3",
   "language": "python",
   "name": "python3"
  },
  "language_info": {
   "codemirror_mode": {
    "name": "ipython",
    "version": 3
   },
   "file_extension": ".py",
   "mimetype": "text/x-python",
   "name": "python",
   "nbconvert_exporter": "python",
   "pygments_lexer": "ipython3",
   "version": "3.7.6"
  }
 },
 "nbformat": 4,
 "nbformat_minor": 4
}
