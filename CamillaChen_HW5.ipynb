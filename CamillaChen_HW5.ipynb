{
 "cells": [
  {
   "cell_type": "markdown",
   "metadata": {},
   "source": [
    "# Question 1 Algorithmic questions\n",
    "Find the kth largest element in an unsorted array. Note that it is the kth largest element in the sorted order, not the kth distinct element."
   ]
  },
  {
   "cell_type": "code",
   "execution_count": 1,
   "metadata": {},
   "outputs": [],
   "source": [
    "import heapq\n",
    "def kthlargest(array,k):\n",
    "    \"\"\"function returns the kth largest element in an array\n",
    "       assume len(array) is n and k is always valid,\n",
    "       overall time complexity is O(n+k*log(n))\n",
    "    \"\"\"\n",
    "    heap = [-i for i in array]    #->time complexity: O(n)\n",
    "    heapq.heapify(heap)           #->time complexity: O(n)\n",
    "    for _ in range(k-1):          \n",
    "        heapq.heappop(heap)       #->each heapq.heappop is O(log(n))\n",
    "    return -1*heapq.heappop(heap)"
   ]
  },
  {
   "cell_type": "code",
   "execution_count": 5,
   "metadata": {},
   "outputs": [
    {
     "name": "stdout",
     "output_type": "stream",
     "text": [
      "5\n",
      "35\n",
      "3\n",
      "23\n"
     ]
    }
   ],
   "source": [
    "array1,k1 = [3,2,1,5,6,4],2         #test case 1&2: unsorted array but contains only distinct values\n",
    "array2,k2 = [11,73,13,46,91,35],4\n",
    "array3,k3 = [3,2,3,1,2,4,5,5,6],5   #test case 3&4: unsorted array that contains duplicate values\n",
    "array4,k4 = [44,23,76,23,65,23,44,89,12],6\n",
    "\n",
    "print(kthlargest(array1,k1))\n",
    "print(kthlargest(array2,k2))\n",
    "print(kthlargest(array3,k3))\n",
    "print(kthlargest(array4,k4))"
   ]
  },
  {
   "cell_type": "markdown",
   "metadata": {},
   "source": [
    "# Question 2 Multithreading pop\n",
    "Using python data structure Queue, generate a queue that have 10000 elments. Then use 1, 5, 20 threads to pop out the elments."
   ]
  },
  {
   "cell_type": "code",
   "execution_count": 6,
   "metadata": {},
   "outputs": [],
   "source": [
    "import threading, queue\n",
    "q = queue.Queue()\n",
    "for task in range(10000):\n",
    "    q.put(task)\n",
    "\n",
    "def thread_function(name,remaining_thread):\n",
    "    tasks=q.qsize()\n",
    "    print(f'Thread {name}: starting')\n",
    "    for i in range(tasks//remaining_thread):\n",
    "        q.get()\n",
    "    print(f'Thread {name}: finished')\n"
   ]
  },
  {
   "cell_type": "code",
   "execution_count": 7,
   "metadata": {},
   "outputs": [
    {
     "name": "stdout",
     "output_type": "stream",
     "text": [
      "Main: start running thread\n",
      "Total tasks in the queue: 10000\n",
      "Thread 1: starting\n",
      "Thread 1: finished\n",
      "Thread 5: starting\n",
      "Thread 5: finished\n",
      "Thread 20: starting\n",
      "Thread 20: finished\n",
      "Remaing tasks in the queue: 0\n",
      "Main: all done\n",
      "\n",
      "CPU times: user 30.4 ms, sys: 2.92 ms, total: 33.4 ms\n",
      "Wall time: 31.1 ms\n"
     ]
    }
   ],
   "source": [
    "%%time\n",
    "if __name__ == \"__main__\":\n",
    "    print(\"Main: start running thread\")\n",
    "    print(f'Total tasks in the queue: {q.qsize()}')\n",
    "    threads = list()\n",
    "    indexs,remaining_thread = [1,5,20],3\n",
    "    for each in indexs:\n",
    "        x = threading.Thread(target=thread_function, args=(each,remaining_thread))\n",
    "        threads.append(x)\n",
    "        x.start()\n",
    "        x.join()\n",
    "        remaining_thread -= 1\n",
    "    print(f'Remaing tasks in the queue: {q.qsize()}')\n",
    "    print(\"Main: all done\\n\")"
   ]
  },
  {
   "cell_type": "markdown",
   "metadata": {},
   "source": [
    "### Observations:  \n",
    "Using 3 threads- CPU times: user 30.4 ms, sys: 2.92 ms, total: 33.4 ms, Wall time: 31.1 ms  \n",
    "Using 4 threads- CPU times: user 30.7 ms, sys: 2.74 ms, total: 33.4 ms, Wall time: 31.5 ms  \n",
    "Using 5 threads- CPU times: user 31.2 ms, sys: 3.39 ms, total: 34.6 ms, Wall time: 31.9 ms  \n",
    "Using 7 threads- CPU times: user 30.8 ms, sys: 3.27 ms, total: 34 ms, Wall time: 31.7 ms  \n",
    "Using 12 threads- CPU times: user 31.1 ms, sys: 3.79 ms, total: 34.9 ms, Wall time: 32.5 ms  \n",
    "### Explanation:  \n",
    "It is easy to see that the CPU/total/Wall times for different numbers of thread are all very close.  \n",
    "This shows that using more threads does not spead up finishing all tasks and it is because Python Global Interpreter Lock (GIL) limits one Python thread to run at a time."
   ]
  },
  {
   "cell_type": "code",
   "execution_count": null,
   "metadata": {},
   "outputs": [],
   "source": []
  }
 ],
 "metadata": {
  "kernelspec": {
   "display_name": "Python 3",
   "language": "python",
   "name": "python3"
  },
  "language_info": {
   "codemirror_mode": {
    "name": "ipython",
    "version": 3
   },
   "file_extension": ".py",
   "mimetype": "text/x-python",
   "name": "python",
   "nbconvert_exporter": "python",
   "pygments_lexer": "ipython3",
   "version": "3.7.6"
  }
 },
 "nbformat": 4,
 "nbformat_minor": 4
}
